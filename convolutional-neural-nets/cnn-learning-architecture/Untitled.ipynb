{
 "cells": [
  {
   "cell_type": "code",
   "execution_count": 2,
   "metadata": {},
   "outputs": [],
   "source": [
    "from utils import *\n",
    "from classes import *\n",
    "import numpy as np\n",
    "import pandas as pd\n",
    "import seaborn as sns\n",
    "import matplotlib.pyplot as plt\n",
    "import tensorflow as tf\n",
    "from sklearn.model_selection import RandomizedSearchCV\n",
    "from sklearn.model_selection import train_test_split\n",
    "from sklearn.metrics import classification_report,confusion_matrix"
   ]
  },
  {
   "cell_type": "code",
   "execution_count": 4,
   "metadata": {},
   "outputs": [
    {
     "name": "stdout",
     "output_type": "stream",
     "text": [
      "   emotion                                             pixels     Usage\n",
      "0        0  70 80 82 72 58 58 60 63 54 58 60 48 89 115 121...  Training\n",
      "1        0  151 150 147 155 148 133 111 140 170 174 182 15...  Training\n",
      "2        2  231 212 156 164 174 138 161 173 182 200 106 38...  Training\n",
      "3        4  24 32 36 30 32 23 19 20 30 41 21 22 32 34 21 1...  Training\n",
      "4        6  4 0 0 0 0 0 0 0 0 0 0 0 3 15 23 28 48 50 58 84...  Training\n"
     ]
    },
    {
     "data": {
      "text/plain": [
       "<matplotlib.axes._subplots.AxesSubplot at 0x7f78dbc86ed0>"
      ]
     },
     "execution_count": 4,
     "metadata": {},
     "output_type": "execute_result"
    },
    {
     "data": {
      "image/png": "[encoded data removed]",
      "text/plain": [
       "<Figure size 432x288 with 1 Axes>"
      ]
     },
     "metadata": {},
     "output_type": "display_data"
    }
   ],
   "source": [
    "filename = \"fer2013/fer2013.csv\";\n",
    "df = pd.read_csv(filename)\n",
    "print(df.head())\n",
    "sns.countplot(x='emotion',data=df)"
   ]
  },
  {
   "cell_type": "code",
   "execution_count": 6,
   "metadata": {},
   "outputs": [
    {
     "data": {
      "text/plain": [
       "<matplotlib.axes._subplots.AxesSubplot at 0x7f78dbb96950>"
      ]
     },
     "execution_count": 6,
     "metadata": {},
     "output_type": "execute_result"
    },
    {
     "data": {
      "image/png": "[encoded data removed]",
      "text/plain": [
       "<Figure size 432x288 with 1 Axes>"
      ]
     },
     "metadata": {},
     "output_type": "display_data"
    }
   ],
   "source": [
    "# We start out with applying CNN on two class labels:0 (Angry) and  3 (Happy)\n",
    "\n",
    "binary = True  #read labels 3 and 4 only \n",
    "balance = False\n",
    "if binary:\n",
    "    df = df[(df['emotion']==3) | (df['emotion']==0)]\n",
    "    df['emotion'] = df['emotion'].apply(lambda x: 0 if x == 0 else 1)\n",
    "X = df['pixels']\n",
    "y = df['emotion']\n",
    "if balance:\n",
    "    X, y = balanceClasses(X,y)\n",
    "sns.countplot(x=y)\n"
   ]
  },
  {
   "cell_type": "code",
   "execution_count": 7,
   "metadata": {},
   "outputs": [],
   "source": [
    "# The parseCNNInput takes (N,k) array and converts it into (N,c,sqrt(k),sqrt(k)) matrix for CNN. In this process, the pixel values are scaled to 0-1. \n",
    "X,y = parseCNNInput(X,y)\n"
   ]
  },
  {
   "cell_type": "code",
   "execution_count": 20,
   "metadata": {},
   "outputs": [],
   "source": [
    "X_train, X_test, y_train, y_test = train_test_split(X, y, test_size=0.2,random_state=42)\n",
    "model = CNN(architecture_params=\n",
    "        {'pool_layer_sizes':[None, None, (20,5,5),None,None,(10,2,2)],\n",
    "         'hidden_layer_sizes':[512,256,None,256,128,None], \n",
    "         'dropout_rates':[0.8, 0.5, 0.5,None,0.5,0.5,None]\n",
    "        },\n",
    "        hyper_params= {'mu': 0.945, 'decay': 0.9999945, 'lr': 0.0005, 'reg': 0.0005, 'eps': 0.001}\n",
    "    )\n"
   ]
  },
  {
   "cell_type": "code",
   "execution_count": 21,
   "metadata": {},
   "outputs": [
    {
     "name": "stdout",
     "output_type": "stream",
     "text": [
      "('i:', 0, 'j:', 0, 'nb:', 338, 'cost:', 1.0748799, 'error rate:', 0.487)\n",
      "('i:', 0, 'j:', 20, 'nb:', 338, 'cost:', 1.0030891, 'error rate:', 0.469)\n",
      "('i:', 0, 'j:', 40, 'nb:', 338, 'cost:', 0.9786324, 'error rate:', 0.381)\n",
      "('i:', 0, 'j:', 60, 'nb:', 338, 'cost:', 1.0003556, 'error rate:', 0.391)\n",
      "('i:', 0, 'j:', 80, 'nb:', 338, 'cost:', 0.9739375, 'error rate:', 0.384)\n",
      "('i:', 0, 'j:', 100, 'nb:', 338, 'cost:', 0.97578335, 'error rate:', 0.376)\n",
      "('i:', 0, 'j:', 120, 'nb:', 338, 'cost:', 0.97923696, 'error rate:', 0.352)\n",
      "('i:', 0, 'j:', 140, 'nb:', 338, 'cost:', 0.9779569, 'error rate:', 0.372)\n",
      "('i:', 0, 'j:', 160, 'nb:', 338, 'cost:', 0.9607369, 'error rate:', 0.356)\n",
      "('i:', 0, 'j:', 180, 'nb:', 338, 'cost:', 0.97290957, 'error rate:', 0.373)\n",
      "('i:', 0, 'j:', 200, 'nb:', 338, 'cost:', 0.97634214, 'error rate:', 0.359)\n",
      "('i:', 0, 'j:', 220, 'nb:', 338, 'cost:', 0.97655, 'error rate:', 0.359)\n",
      "('i:', 0, 'j:', 240, 'nb:', 338, 'cost:', 0.96717846, 'error rate:', 0.359)\n",
      "('i:', 0, 'j:', 260, 'nb:', 338, 'cost:', 0.97016704, 'error rate:', 0.355)\n",
      "('i:', 0, 'j:', 280, 'nb:', 338, 'cost:', 0.9679197, 'error rate:', 0.355)\n",
      "('i:', 0, 'j:', 300, 'nb:', 338, 'cost:', 0.9695184, 'error rate:', 0.359)\n",
      "('i:', 0, 'j:', 320, 'nb:', 338, 'cost:', 0.96280867, 'error rate:', 0.358)\n",
      "('i:', 1, 'j:', 0, 'nb:', 338, 'cost:', 0.9677925, 'error rate:', 0.361)\n",
      "('i:', 1, 'j:', 20, 'nb:', 338, 'cost:', 0.9678588, 'error rate:', 0.36)\n",
      "('i:', 1, 'j:', 40, 'nb:', 338, 'cost:', 0.9681942, 'error rate:', 0.35)\n",
      "('i:', 1, 'j:', 60, 'nb:', 338, 'cost:', 0.96370953, 'error rate:', 0.353)\n",
      "('i:', 1, 'j:', 80, 'nb:', 338, 'cost:', 0.96778333, 'error rate:', 0.355)\n",
      "('i:', 1, 'j:', 100, 'nb:', 338, 'cost:', 0.96047837, 'error rate:', 0.352)\n",
      "('i:', 1, 'j:', 120, 'nb:', 338, 'cost:', 0.9654915, 'error rate:', 0.356)\n",
      "('i:', 1, 'j:', 140, 'nb:', 338, 'cost:', 0.9664296, 'error rate:', 0.353)\n",
      "('i:', 1, 'j:', 160, 'nb:', 338, 'cost:', 0.96598625, 'error rate:', 0.35)\n",
      "('i:', 1, 'j:', 180, 'nb:', 338, 'cost:', 0.9647395, 'error rate:', 0.348)\n",
      "('i:', 1, 'j:', 200, 'nb:', 338, 'cost:', 0.96898997, 'error rate:', 0.352)\n",
      "('i:', 1, 'j:', 220, 'nb:', 338, 'cost:', 0.96258855, 'error rate:', 0.349)\n",
      "('i:', 1, 'j:', 240, 'nb:', 338, 'cost:', 0.96420425, 'error rate:', 0.349)\n",
      "('i:', 1, 'j:', 260, 'nb:', 338, 'cost:', 0.95813924, 'error rate:', 0.348)\n",
      "('i:', 1, 'j:', 280, 'nb:', 338, 'cost:', 0.96188664, 'error rate:', 0.349)\n",
      "('i:', 1, 'j:', 300, 'nb:', 338, 'cost:', 0.96758604, 'error rate:', 0.349)\n",
      "('i:', 1, 'j:', 320, 'nb:', 338, 'cost:', 0.9649011, 'error rate:', 0.349)\n",
      "('i:', 2, 'j:', 0, 'nb:', 338, 'cost:', 0.9685025, 'error rate:', 0.351)\n",
      "('i:', 2, 'j:', 20, 'nb:', 338, 'cost:', 0.96646583, 'error rate:', 0.35)\n",
      "('i:', 2, 'j:', 40, 'nb:', 338, 'cost:', 0.96328646, 'error rate:', 0.352)\n",
      "('i:', 2, 'j:', 60, 'nb:', 338, 'cost:', 0.96473116, 'error rate:', 0.354)\n",
      "('i:', 2, 'j:', 80, 'nb:', 338, 'cost:', 0.96114457, 'error rate:', 0.351)\n",
      "('i:', 2, 'j:', 100, 'nb:', 338, 'cost:', 0.96598256, 'error rate:', 0.35)\n",
      "('i:', 2, 'j:', 120, 'nb:', 338, 'cost:', 0.96332383, 'error rate:', 0.348)\n",
      "('i:', 2, 'j:', 140, 'nb:', 338, 'cost:', 0.9634999, 'error rate:', 0.351)\n",
      "('i:', 2, 'j:', 160, 'nb:', 338, 'cost:', 0.96795905, 'error rate:', 0.35)\n",
      "('i:', 2, 'j:', 180, 'nb:', 338, 'cost:', 0.9677081, 'error rate:', 0.354)\n",
      "('i:', 2, 'j:', 200, 'nb:', 338, 'cost:', 0.9611732, 'error rate:', 0.352)\n",
      "('i:', 2, 'j:', 220, 'nb:', 338, 'cost:', 0.96049345, 'error rate:', 0.349)\n",
      "('i:', 2, 'j:', 240, 'nb:', 338, 'cost:', 0.9647969, 'error rate:', 0.35)\n",
      "('i:', 2, 'j:', 260, 'nb:', 338, 'cost:', 0.96247387, 'error rate:', 0.349)\n",
      "('i:', 2, 'j:', 280, 'nb:', 338, 'cost:', 0.9673161, 'error rate:', 0.35)\n",
      "('i:', 2, 'j:', 300, 'nb:', 338, 'cost:', 0.9617027, 'error rate:', 0.349)\n",
      "('i:', 2, 'j:', 320, 'nb:', 338, 'cost:', 0.9601691, 'error rate:', 0.349)\n",
      "('i:', 3, 'j:', 0, 'nb:', 338, 'cost:', 0.9629264, 'error rate:', 0.35)\n",
      "('i:', 3, 'j:', 20, 'nb:', 338, 'cost:', 0.95857286, 'error rate:', 0.347)\n",
      "('i:', 3, 'j:', 40, 'nb:', 338, 'cost:', 0.96385366, 'error rate:', 0.354)\n",
      "('i:', 3, 'j:', 60, 'nb:', 338, 'cost:', 0.9586202, 'error rate:', 0.352)\n",
      "('i:', 3, 'j:', 80, 'nb:', 338, 'cost:', 0.9568294, 'error rate:', 0.35)\n",
      "('i:', 3, 'j:', 100, 'nb:', 338, 'cost:', 0.9639588, 'error rate:', 0.346)\n",
      "('i:', 3, 'j:', 120, 'nb:', 338, 'cost:', 0.9589139, 'error rate:', 0.348)\n",
      "('i:', 3, 'j:', 140, 'nb:', 338, 'cost:', 0.9597447, 'error rate:', 0.35)\n",
      "('i:', 3, 'j:', 160, 'nb:', 338, 'cost:', 0.96270424, 'error rate:', 0.352)\n",
      "('i:', 3, 'j:', 180, 'nb:', 338, 'cost:', 0.9614354, 'error rate:', 0.349)\n",
      "('i:', 3, 'j:', 200, 'nb:', 338, 'cost:', 0.9606708, 'error rate:', 0.349)\n",
      "('i:', 3, 'j:', 220, 'nb:', 338, 'cost:', 0.9586395, 'error rate:', 0.349)\n",
      "('i:', 3, 'j:', 240, 'nb:', 338, 'cost:', 0.96336657, 'error rate:', 0.349)\n",
      "('i:', 3, 'j:', 260, 'nb:', 338, 'cost:', 0.9576663, 'error rate:', 0.349)\n",
      "('i:', 3, 'j:', 280, 'nb:', 338, 'cost:', 0.9580826, 'error rate:', 0.35)\n",
      "('i:', 3, 'j:', 300, 'nb:', 338, 'cost:', 0.9593229, 'error rate:', 0.349)\n",
      "('i:', 3, 'j:', 320, 'nb:', 338, 'cost:', 0.9587045, 'error rate:', 0.349)\n",
      "('i:', 4, 'j:', 0, 'nb:', 338, 'cost:', 0.9581119, 'error rate:', 0.349)\n",
      "('i:', 4, 'j:', 20, 'nb:', 338, 'cost:', 0.95528364, 'error rate:', 0.349)\n",
      "('i:', 4, 'j:', 40, 'nb:', 338, 'cost:', 0.95777065, 'error rate:', 0.349)\n",
      "('i:', 4, 'j:', 60, 'nb:', 338, 'cost:', 0.95745915, 'error rate:', 0.349)\n",
      "('i:', 4, 'j:', 80, 'nb:', 338, 'cost:', 0.9547654, 'error rate:', 0.349)\n",
      "('i:', 4, 'j:', 100, 'nb:', 338, 'cost:', 0.95980763, 'error rate:', 0.349)\n",
      "('i:', 4, 'j:', 120, 'nb:', 338, 'cost:', 0.9575094, 'error rate:', 0.349)\n",
      "('i:', 4, 'j:', 140, 'nb:', 338, 'cost:', 0.95889497, 'error rate:', 0.349)\n",
      "('i:', 4, 'j:', 160, 'nb:', 338, 'cost:', 0.9601533, 'error rate:', 0.349)\n",
      "('i:', 4, 'j:', 180, 'nb:', 338, 'cost:', 0.9616475, 'error rate:', 0.349)\n",
      "('i:', 4, 'j:', 200, 'nb:', 338, 'cost:', 0.95409894, 'error rate:', 0.349)\n",
      "('i:', 4, 'j:', 220, 'nb:', 338, 'cost:', 0.9596988, 'error rate:', 0.349)\n",
      "('i:', 4, 'j:', 240, 'nb:', 338, 'cost:', 0.96304226, 'error rate:', 0.35)\n",
      "('i:', 4, 'j:', 260, 'nb:', 338, 'cost:', 0.9579343, 'error rate:', 0.349)\n",
      "('i:', 4, 'j:', 280, 'nb:', 338, 'cost:', 0.95750713, 'error rate:', 0.349)\n",
      "('i:', 4, 'j:', 300, 'nb:', 338, 'cost:', 0.95538986, 'error rate:', 0.349)\n",
      "('i:', 4, 'j:', 320, 'nb:', 338, 'cost:', 0.9543133, 'error rate:', 0.349)\n",
      "('i:', 5, 'j:', 0, 'nb:', 338, 'cost:', 0.9550059, 'error rate:', 0.349)\n",
      "('i:', 5, 'j:', 20, 'nb:', 338, 'cost:', 0.95671916, 'error rate:', 0.349)\n",
      "('i:', 5, 'j:', 40, 'nb:', 338, 'cost:', 0.9584211, 'error rate:', 0.349)\n",
      "('i:', 5, 'j:', 60, 'nb:', 338, 'cost:', 0.9571595, 'error rate:', 0.349)\n",
      "('i:', 5, 'j:', 80, 'nb:', 338, 'cost:', 0.95831186, 'error rate:', 0.35)\n",
      "('i:', 5, 'j:', 100, 'nb:', 338, 'cost:', 0.95539093, 'error rate:', 0.349)\n",
      "('i:', 5, 'j:', 120, 'nb:', 338, 'cost:', 0.9534383, 'error rate:', 0.349)\n",
      "('i:', 5, 'j:', 140, 'nb:', 338, 'cost:', 0.9540863, 'error rate:', 0.349)\n",
      "('i:', 5, 'j:', 160, 'nb:', 338, 'cost:', 0.95979404, 'error rate:', 0.349)\n",
      "('i:', 5, 'j:', 180, 'nb:', 338, 'cost:', 0.95746917, 'error rate:', 0.349)\n",
      "('i:', 5, 'j:', 200, 'nb:', 338, 'cost:', 0.95792806, 'error rate:', 0.349)\n",
      "('i:', 5, 'j:', 220, 'nb:', 338, 'cost:', 0.9550624, 'error rate:', 0.349)\n",
      "('i:', 5, 'j:', 240, 'nb:', 338, 'cost:', 0.9570366, 'error rate:', 0.349)\n",
      "('i:', 5, 'j:', 260, 'nb:', 338, 'cost:', 0.9476248, 'error rate:', 0.349)\n",
      "('i:', 5, 'j:', 280, 'nb:', 338, 'cost:', 0.95570445, 'error rate:', 0.349)\n",
      "('i:', 5, 'j:', 300, 'nb:', 338, 'cost:', 0.95654905, 'error rate:', 0.349)\n",
      "('i:', 5, 'j:', 320, 'nb:', 338, 'cost:', 0.9579789, 'error rate:', 0.349)\n",
      "('\\nerror_rate: ', 0.349, ', params: ', {'mu': 0.945, 'eps': 0.001, 'lr': 0.0005, 'reg': 0.0005, 'decay': 0.9999945})\n"
     ]
    },
    {
     "data": {
      "image/png": "[encoded data removed]",
      "text/plain": [
       "<Figure size 432x288 with 2 Axes>"
      ]
     },
     "metadata": {},
     "output_type": "display_data"
    }
   ],
   "source": [
    "model.fit(X_train,y_train,batch_sz=30,epochs=6,debug=True)"
   ]
  },
  {
   "cell_type": "code",
   "execution_count": 23,
   "metadata": {},
   "outputs": [
    {
     "name": "stdout",
     "output_type": "stream",
     "text": [
      "test error: 0.3535317318035138\n",
      "[[   2  985]\n",
      " [   1 1801]]\n",
      "\n",
      "\n",
      "             precision    recall  f1-score   support\n",
      "\n",
      "          0       0.67      0.00      0.00       987\n",
      "          1       0.65      1.00      0.79      1802\n",
      "\n",
      "avg / total       0.65      0.65      0.51      2789\n",
      "\n"
     ]
    }
   ],
   "source": [
    "pred = model.predict(X_test)\n",
    "err = error_rate(pred,y_test)\n",
    "print(\"test error: \" + str(err))\n",
    "print(confusion_matrix(y_test, pred))\n",
    "print(\"\\n\")\n",
    "print(classification_report(y_test,pred))\n"
   ]
  },
  {
   "cell_type": "code",
   "execution_count": null,
   "metadata": {},
   "outputs": [],
   "source": []
  }
 ],
 "metadata": {
  "kernelspec": {
   "display_name": "Python 2",
   "language": "python",
   "name": "python2"
  },
  "language_info": {
   "codemirror_mode": {
    "name": "ipython",
    "version": 2
   },
   "file_extension": ".py",
   "mimetype": "text/x-python",
   "name": "python",
   "nbconvert_exporter": "python",
   "pygments_lexer": "ipython2",
   "version": "2.7.12"
  }
 },
 "nbformat": 4,
 "nbformat_minor": 2
}
