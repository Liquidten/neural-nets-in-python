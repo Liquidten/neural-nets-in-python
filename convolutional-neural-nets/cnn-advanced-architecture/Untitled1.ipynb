{
 "cells": [
  {
   "cell_type": "code",
   "execution_count": 1,
   "metadata": {},
   "outputs": [],
   "source": [
    "from utils import *\n",
    "from cnn import *\n",
    "import numpy as np\n",
    "import pandas as pd\n",
    "import seaborn as sns\n",
    "import matplotlib.pyplot as plt\n",
    "import tensorflow as tf\n",
    "#from tensorflow.examples.tutorials.mnist import input_data\n",
    "from sklearn.datasets import fetch_openml\n",
    "from sklearn.model_selection import train_test_split\n",
    "from sklearn.metrics import classification_report,confusion_matrix"
   ]
  },
  {
   "cell_type": "code",
   "execution_count": 2,
   "metadata": {},
   "outputs": [],
   "source": [
    "def testMnist(arch):    \n",
    "    X, y = fetch_openml('mnist_784', version=1, return_X_y=True)\n",
    "    X = scalePixel(X)\n",
    "    X = arrToImg(X)\n",
    "    Y = strToIntArr(y)\n",
    "    \n",
    "    X_train, X_test, y_train, y_test = train_test_split(X, y, test_size=0.01, random_state=42)\n",
    "\n",
    "    #model = CNN(\"mnist\", architecture_params = arch )\n",
    "    model = CNN(\"mnist_1567817952\", architecture_params = arch )\n",
    "    #model.fit(X_train,y_train,batch_sz=100,epochs=20,method=\"adam\", debug=True)\n",
    "    pred = model.predict(X_test)\n",
    "    err = error_rate(pred,y_test)\n",
    "    print(\"test error: \" + str(err))\n",
    "    print(confusion_matrix(y_test, pred))\n",
    "    print(\"\\n\")\n",
    "    print(classification_report(y_test,pred))\n"
   ]
  },
  {
   "cell_type": "code",
   "execution_count": 3,
   "metadata": {},
   "outputs": [],
   "source": [
    "def main(): \n",
    "    arch = [\n",
    "        {'type':'C','activation':'relu','num_output':64,'kernel_size': (3,3), 'stride': (1,1), 'drop_out': 0.0},\n",
    "        {'type':'C','activation':'relu','num_output':128,'kernel_size': (3,3), 'stride': (1,1), 'drop_out': 8.3},\n",
    "        {'type':'P','pool':'max','kernel_size': (2,2), 'stride': (2,2), 'drop_out': 16.7},\n",
    "        {'type':'C','activation':'relu','num_output':256,'kernel_size': (3,3), 'stride': (1,1), 'drop_out': 0.0},\n",
    "        {'type':'C','activation':'relu','num_output':128,'kernel_size': (5,5), 'stride': (1,1), 'drop_out':16.7},\n",
    "        {'type':'P','pool':'max','kernel_size': (5,5), 'stride': (3,3), 'drop_out': 0.0},\n",
    "        {'type':'C','activation':'relu','num_output':256,'kernel_size': (3,3), 'stride': (1,1), 'drop_out': 0.0},\n",
    "        {'type':'FC','activation':'relu','num_output':256,'drop_out': 8.3},\n",
    "        {'type':'FC','activation':'relu','num_output':128,'drop_out': 0.0}, \n",
    "        {'type':'T','activation':None}\n",
    "    ]\n",
    "    #testfer2013(arch)\n",
    "    #testfer2013(arch,False)\n",
    "    testMnist(arch)"
   ]
  },
  {
   "cell_type": "code",
   "execution_count": 4,
   "metadata": {},
   "outputs": [
    {
     "name": "stdout",
     "output_type": "stream",
     "text": [
      "WARNING:tensorflow:From /home/mbastola/anaconda3/envs/tf_gpu/lib/python3.7/site-packages/tensorflow/python/framework/op_def_library.py:263: colocate_with (from tensorflow.python.framework.ops) is deprecated and will be removed in a future version.\n",
      "Instructions for updating:\n",
      "Colocations handled automatically by placer.\n",
      "built CNN\n",
      "WARNING:tensorflow:From /home/mbastola/anaconda3/envs/tf_gpu/lib/python3.7/site-packages/tensorflow/python/training/saver.py:1266: checkpoint_exists (from tensorflow.python.training.checkpoint_management) is deprecated and will be removed in a future version.\n",
      "Instructions for updating:\n",
      "Use standard file APIs to check for files with this prefix.\n",
      "INFO:tensorflow:Restoring parameters from ./models/CNN_mnist_1567817952\n",
      "{0, 1} 2\n",
      "test error: 0.8871428571428571\n"
     ]
    },
    {
     "ename": "ValueError",
     "evalue": "Classification metrics can't handle a mix of unknown and binary targets",
     "output_type": "error",
     "traceback": [
      "\u001b[0;31m---------------------------------------------------------------------------\u001b[0m",
      "\u001b[0;31mValueError\u001b[0m                                Traceback (most recent call last)",
      "\u001b[0;32m<ipython-input-4-263240bbee7e>\u001b[0m in \u001b[0;36m<module>\u001b[0;34m\u001b[0m\n\u001b[0;32m----> 1\u001b[0;31m \u001b[0mmain\u001b[0m\u001b[0;34m(\u001b[0m\u001b[0;34m)\u001b[0m\u001b[0;34m\u001b[0m\u001b[0;34m\u001b[0m\u001b[0m\n\u001b[0m",
      "\u001b[0;32m<ipython-input-3-8e8a0fc9a202>\u001b[0m in \u001b[0;36mmain\u001b[0;34m()\u001b[0m\n\u001b[1;32m     14\u001b[0m     \u001b[0;31m#testfer2013(arch)\u001b[0m\u001b[0;34m\u001b[0m\u001b[0;34m\u001b[0m\u001b[0;34m\u001b[0m\u001b[0m\n\u001b[1;32m     15\u001b[0m     \u001b[0;31m#testfer2013(arch,False)\u001b[0m\u001b[0;34m\u001b[0m\u001b[0;34m\u001b[0m\u001b[0;34m\u001b[0m\u001b[0m\n\u001b[0;32m---> 16\u001b[0;31m     \u001b[0mtestMnist\u001b[0m\u001b[0;34m(\u001b[0m\u001b[0march\u001b[0m\u001b[0;34m)\u001b[0m\u001b[0;34m\u001b[0m\u001b[0;34m\u001b[0m\u001b[0m\n\u001b[0m",
      "\u001b[0;32m<ipython-input-2-f0ad8b115b81>\u001b[0m in \u001b[0;36mtestMnist\u001b[0;34m(arch)\u001b[0m\n\u001b[1;32m     13\u001b[0m     \u001b[0merr\u001b[0m \u001b[0;34m=\u001b[0m \u001b[0merror_rate\u001b[0m\u001b[0;34m(\u001b[0m\u001b[0mpred\u001b[0m\u001b[0;34m,\u001b[0m\u001b[0my_test\u001b[0m\u001b[0;34m)\u001b[0m\u001b[0;34m\u001b[0m\u001b[0;34m\u001b[0m\u001b[0m\n\u001b[1;32m     14\u001b[0m     \u001b[0mprint\u001b[0m\u001b[0;34m(\u001b[0m\u001b[0;34m\"test error: \"\u001b[0m \u001b[0;34m+\u001b[0m \u001b[0mstr\u001b[0m\u001b[0;34m(\u001b[0m\u001b[0merr\u001b[0m\u001b[0;34m)\u001b[0m\u001b[0;34m)\u001b[0m\u001b[0;34m\u001b[0m\u001b[0;34m\u001b[0m\u001b[0m\n\u001b[0;32m---> 15\u001b[0;31m     \u001b[0mprint\u001b[0m\u001b[0;34m(\u001b[0m\u001b[0mconfusion_matrix\u001b[0m\u001b[0;34m(\u001b[0m\u001b[0my_test\u001b[0m\u001b[0;34m,\u001b[0m \u001b[0mpred\u001b[0m\u001b[0;34m)\u001b[0m\u001b[0;34m)\u001b[0m\u001b[0;34m\u001b[0m\u001b[0;34m\u001b[0m\u001b[0m\n\u001b[0m\u001b[1;32m     16\u001b[0m     \u001b[0mprint\u001b[0m\u001b[0;34m(\u001b[0m\u001b[0;34m\"\\n\"\u001b[0m\u001b[0;34m)\u001b[0m\u001b[0;34m\u001b[0m\u001b[0;34m\u001b[0m\u001b[0m\n\u001b[1;32m     17\u001b[0m     \u001b[0mprint\u001b[0m\u001b[0;34m(\u001b[0m\u001b[0mclassification_report\u001b[0m\u001b[0;34m(\u001b[0m\u001b[0my_test\u001b[0m\u001b[0;34m,\u001b[0m\u001b[0mpred\u001b[0m\u001b[0;34m)\u001b[0m\u001b[0;34m)\u001b[0m\u001b[0;34m\u001b[0m\u001b[0;34m\u001b[0m\u001b[0m\n",
      "\u001b[0;32m~/anaconda3/envs/tf_gpu/lib/python3.7/site-packages/sklearn/metrics/classification.py\u001b[0m in \u001b[0;36mconfusion_matrix\u001b[0;34m(y_true, y_pred, labels, sample_weight)\u001b[0m\n\u001b[1;32m    251\u001b[0m \u001b[0;34m\u001b[0m\u001b[0m\n\u001b[1;32m    252\u001b[0m     \"\"\"\n\u001b[0;32m--> 253\u001b[0;31m     \u001b[0my_type\u001b[0m\u001b[0;34m,\u001b[0m \u001b[0my_true\u001b[0m\u001b[0;34m,\u001b[0m \u001b[0my_pred\u001b[0m \u001b[0;34m=\u001b[0m \u001b[0m_check_targets\u001b[0m\u001b[0;34m(\u001b[0m\u001b[0my_true\u001b[0m\u001b[0;34m,\u001b[0m \u001b[0my_pred\u001b[0m\u001b[0;34m)\u001b[0m\u001b[0;34m\u001b[0m\u001b[0;34m\u001b[0m\u001b[0m\n\u001b[0m\u001b[1;32m    254\u001b[0m     \u001b[0;32mif\u001b[0m \u001b[0my_type\u001b[0m \u001b[0;32mnot\u001b[0m \u001b[0;32min\u001b[0m \u001b[0;34m(\u001b[0m\u001b[0;34m\"binary\"\u001b[0m\u001b[0;34m,\u001b[0m \u001b[0;34m\"multiclass\"\u001b[0m\u001b[0;34m)\u001b[0m\u001b[0;34m:\u001b[0m\u001b[0;34m\u001b[0m\u001b[0;34m\u001b[0m\u001b[0m\n\u001b[1;32m    255\u001b[0m         \u001b[0;32mraise\u001b[0m \u001b[0mValueError\u001b[0m\u001b[0;34m(\u001b[0m\u001b[0;34m\"%s is not supported\"\u001b[0m \u001b[0;34m%\u001b[0m \u001b[0my_type\u001b[0m\u001b[0;34m)\u001b[0m\u001b[0;34m\u001b[0m\u001b[0;34m\u001b[0m\u001b[0m\n",
      "\u001b[0;32m~/anaconda3/envs/tf_gpu/lib/python3.7/site-packages/sklearn/metrics/classification.py\u001b[0m in \u001b[0;36m_check_targets\u001b[0;34m(y_true, y_pred)\u001b[0m\n\u001b[1;32m     79\u001b[0m     \u001b[0;32mif\u001b[0m \u001b[0mlen\u001b[0m\u001b[0;34m(\u001b[0m\u001b[0my_type\u001b[0m\u001b[0;34m)\u001b[0m \u001b[0;34m>\u001b[0m \u001b[0;36m1\u001b[0m\u001b[0;34m:\u001b[0m\u001b[0;34m\u001b[0m\u001b[0;34m\u001b[0m\u001b[0m\n\u001b[1;32m     80\u001b[0m         raise ValueError(\"Classification metrics can't handle a mix of {0} \"\n\u001b[0;32m---> 81\u001b[0;31m                          \"and {1} targets\".format(type_true, type_pred))\n\u001b[0m\u001b[1;32m     82\u001b[0m \u001b[0;34m\u001b[0m\u001b[0m\n\u001b[1;32m     83\u001b[0m     \u001b[0;31m# We can't have more than one value on y_type => The set is no more needed\u001b[0m\u001b[0;34m\u001b[0m\u001b[0;34m\u001b[0m\u001b[0;34m\u001b[0m\u001b[0m\n",
      "\u001b[0;31mValueError\u001b[0m: Classification metrics can't handle a mix of unknown and binary targets"
     ]
    }
   ],
   "source": [
    "main()"
   ]
  },
  {
   "cell_type": "code",
   "execution_count": 3,
   "metadata": {},
   "outputs": [],
   "source": [
    "y_pred=np.load(\"pred.npy\")"
   ]
  },
  {
   "cell_type": "code",
   "execution_count": 6,
   "metadata": {},
   "outputs": [],
   "source": [
    "y_test=np.load(\"ytest.npy\",allow_pickle=True)"
   ]
  },
  {
   "cell_type": "code",
   "execution_count": 12,
   "metadata": {},
   "outputs": [],
   "source": [
    "y_test=y_test.astype('float64')"
   ]
  },
  {
   "cell_type": "code",
   "execution_count": 13,
   "metadata": {},
   "outputs": [
    {
     "data": {
      "text/plain": [
       "array([8., 4., 8., 7., 7., 0., 6., 2., 7., 4., 3., 9., 9., 8., 2., 5., 9.,\n",
       "       1., 7., 8., 0., 0., 0., 3., 6., 3., 6., 1., 6., 9., 7., 6., 0., 8.,\n",
       "       5., 5., 2., 9., 1., 6., 4., 9., 7., 7., 4., 5., 2., 7., 3., 9., 2.,\n",
       "       0., 6., 8., 5., 3., 1., 4., 0., 9., 1., 7., 5., 3., 9., 5., 7., 9.,\n",
       "       6., 0., 1., 7., 3., 0., 4., 3., 4., 3., 5., 6., 6., 6., 8., 2., 7.,\n",
       "       1., 1., 3., 8., 8., 7., 5., 1., 8., 2., 0., 8., 7., 3., 0., 3., 4.,\n",
       "       0., 4., 4., 5., 1., 3., 5., 0., 8., 3., 7., 1., 9., 9., 1., 3., 9.,\n",
       "       1., 5., 7., 8., 4., 8., 1., 2., 0., 9., 9., 1., 6., 3., 9., 3., 5.,\n",
       "       6., 3., 1., 1., 3., 4., 2., 1., 4., 3., 5., 6., 2., 8., 2., 1., 8.,\n",
       "       7., 0., 6., 4., 7., 7., 0., 8., 1., 5., 5., 2., 3., 5., 0., 0., 8.,\n",
       "       0., 9., 1., 0., 7., 6., 4., 2., 2., 8., 2., 5., 7., 3., 6., 6., 2.,\n",
       "       1., 2., 3., 9., 1., 7., 9., 8., 6., 5., 3., 5., 9., 1., 5., 9., 3.,\n",
       "       8., 2., 9., 3., 8., 1., 3., 9., 4., 1., 5., 6., 9., 5., 9., 0., 9.,\n",
       "       1., 4., 5., 1., 1., 2., 3., 3., 4., 0., 7., 4., 6., 5., 7., 9., 8.,\n",
       "       7., 4., 4., 9., 4., 3., 7., 7., 4., 6., 6., 9., 9., 6., 3., 4., 6.,\n",
       "       6., 9., 8., 3., 0., 7., 0., 7., 3., 3., 0., 1., 5., 5., 3., 1., 8.,\n",
       "       6., 1., 1., 6., 8., 5., 8., 9., 5., 4., 9., 9., 6., 1., 7., 2., 1.,\n",
       "       3., 7., 3., 7., 8., 1., 8., 8., 7., 4., 4., 1., 6., 2., 2., 6., 3.,\n",
       "       1., 9., 5., 5., 6., 4., 9., 8., 5., 3., 0., 1., 5., 9., 0., 6., 3.,\n",
       "       1., 3., 5., 7., 4., 2., 9., 7., 7., 8., 9., 9., 8., 0., 0., 8., 3.,\n",
       "       0., 0., 0., 2., 3., 7., 0., 6., 2., 6., 8., 1., 1., 3., 1., 3., 8.,\n",
       "       9., 2., 4., 0., 3., 4., 9., 5., 3., 6., 2., 2., 0., 7., 4., 5., 4.,\n",
       "       8., 1., 3., 7., 2., 3., 0., 1., 0., 1., 4., 2., 2., 4., 5., 4., 0.,\n",
       "       6., 0., 1., 2., 3., 7., 4., 0., 0., 2., 6., 6., 0., 0., 6., 3., 9.,\n",
       "       3., 7., 6., 3., 5., 7., 2., 0., 6., 8., 9., 4., 6., 8., 4., 9., 3.,\n",
       "       1., 4., 5., 8., 6., 2., 8., 6., 5., 0., 2., 6., 3., 8., 1., 1., 6.,\n",
       "       2., 9., 1., 0., 8., 8., 0., 7., 2., 3., 1., 2., 8., 2., 1., 3., 2.,\n",
       "       7., 6., 1., 5., 8., 0., 2., 5., 4., 7., 0., 4., 1., 5., 6., 0., 7.,\n",
       "       7., 8., 0., 9., 2., 0., 0., 5., 7., 4., 5., 3., 2., 8., 7., 2., 1.,\n",
       "       8., 3., 2., 9., 9., 3., 9., 4., 8., 6., 2., 3., 9., 6., 3., 7., 4.,\n",
       "       7., 8., 4., 3., 6., 5., 5., 5., 1., 6., 7., 7., 7., 7., 1., 2., 3.,\n",
       "       0., 4., 7., 0., 4., 7., 6., 5., 2., 9., 4., 0., 6., 1., 0., 8., 1.,\n",
       "       1., 1., 3., 9., 0., 4., 8., 0., 3., 1., 6., 4., 2., 5., 1., 7., 3.,\n",
       "       6., 8., 9., 8., 8., 8., 4., 5., 4., 5., 8., 7., 1., 6., 8., 3., 2.,\n",
       "       1., 2., 6., 9., 8., 9., 6., 1., 4., 9., 9., 9., 8., 8., 3., 2., 8.,\n",
       "       4., 1., 4., 3., 9., 3., 3., 8., 1., 6., 3., 4., 9., 9., 1., 2., 7.,\n",
       "       2., 5., 5., 9., 5., 1., 1., 4., 1., 5., 6., 7., 4., 9., 3., 0., 3.,\n",
       "       0., 6., 2., 0., 5., 6., 5., 9., 1., 7., 4., 3., 2., 3., 3., 5., 2.,\n",
       "       7., 3., 1., 3., 8., 0., 9., 8., 6., 9., 3., 5., 0., 7., 7., 2., 0.,\n",
       "       3., 4., 2., 9., 6., 5., 1., 3., 8., 8., 0., 2., 7., 0., 0., 5., 9.,\n",
       "       6., 3., 4., 2., 7., 2., 8., 4., 8., 4., 3., 1., 0., 3., 9., 2., 3.,\n",
       "       1., 3., 5.])"
      ]
     },
     "execution_count": 13,
     "metadata": {},
     "output_type": "execute_result"
    }
   ],
   "source": [
    "y_test"
   ]
  },
  {
   "cell_type": "code",
   "execution_count": 15,
   "metadata": {},
   "outputs": [],
   "source": [
    "err = error_rate(y_pred,y_test)"
   ]
  },
  {
   "cell_type": "code",
   "execution_count": 17,
   "metadata": {},
   "outputs": [
    {
     "name": "stdout",
     "output_type": "stream",
     "text": [
      "test error: 0.012857142857142857\n"
     ]
    }
   ],
   "source": [
    "print(\"test error: \" + str(err)) "
   ]
  },
  {
   "cell_type": "code",
   "execution_count": 19,
   "metadata": {},
   "outputs": [
    {
     "name": "stdout",
     "output_type": "stream",
     "text": [
      "[[69  0  0  0  0  0  0  0  0  0]\n",
      " [ 0 78  0  0  0  0  0  0  0  0]\n",
      " [ 0  0 64  0  0  0  0  0  0  0]\n",
      " [ 0  0  0 87  0  1  0  0  0  0]\n",
      " [ 0  0  0  0 63  0  1  0  0  0]\n",
      " [ 0  0  0  1  0 62  0  0  0  0]\n",
      " [ 0  0  0  0  0  1 66  0  0  0]\n",
      " [ 0  0  1  0  0  0  0 66  0  0]\n",
      " [ 0  0  1  0  0  0  1  0 68  0]\n",
      " [ 0  0  0  0  0  0  0  1  1 68]]\n"
     ]
    }
   ],
   "source": [
    "print(confusion_matrix(y_test, y_pred))"
   ]
  },
  {
   "cell_type": "code",
   "execution_count": 21,
   "metadata": {},
   "outputs": [
    {
     "name": "stdout",
     "output_type": "stream",
     "text": [
      "              precision    recall  f1-score   support\n",
      "\n",
      "         0.0       1.00      1.00      1.00        69\n",
      "         1.0       1.00      1.00      1.00        78\n",
      "         2.0       0.97      1.00      0.98        64\n",
      "         3.0       0.99      0.99      0.99        88\n",
      "         4.0       1.00      0.98      0.99        64\n",
      "         5.0       0.97      0.98      0.98        63\n",
      "         6.0       0.97      0.99      0.98        67\n",
      "         7.0       0.99      0.99      0.99        67\n",
      "         8.0       0.99      0.97      0.98        70\n",
      "         9.0       1.00      0.97      0.99        70\n",
      "\n",
      "    accuracy                           0.99       700\n",
      "   macro avg       0.99      0.99      0.99       700\n",
      "weighted avg       0.99      0.99      0.99       700\n",
      "\n"
     ]
    }
   ],
   "source": [
    "print(classification_report(y_test,y_pred)) "
   ]
  },
  {
   "cell_type": "code",
   "execution_count": null,
   "metadata": {},
   "outputs": [],
   "source": []
  }
 ],
 "metadata": {
  "kernelspec": {
   "display_name": "Python 2",
   "language": "python",
   "name": "python2"
  },
  "language_info": {
   "codemirror_mode": {
    "name": "ipython",
    "version": 3
   },
   "file_extension": ".py",
   "mimetype": "text/x-python",
   "name": "python",
   "nbconvert_exporter": "python",
   "pygments_lexer": "ipython3",
   "version": "3.7.3"
  }
 },
 "nbformat": 4,
 "nbformat_minor": 2
}
